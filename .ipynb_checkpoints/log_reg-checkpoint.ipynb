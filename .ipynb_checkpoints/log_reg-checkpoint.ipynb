{
 "cells": [
  {
   "cell_type": "markdown",
   "metadata": {},
   "source": [
    "## Logistic Regression"
   ]
  },
  {
   "cell_type": "markdown",
   "metadata": {},
   "source": [
    "Using classes this time"
   ]
  },
  {
   "cell_type": "code",
   "execution_count": 1,
   "metadata": {
    "collapsed": false
   },
   "outputs": [
    {
     "data": {
      "text/html": [
       "<div>\n",
       "<table border=\"1\" class=\"dataframe\">\n",
       "  <thead>\n",
       "    <tr style=\"text-align: right;\">\n",
       "      <th></th>\n",
       "      <th>PLACE</th>\n",
       "      <th>PLACE3</th>\n",
       "      <th>AGE</th>\n",
       "      <th>RACE</th>\n",
       "      <th>GENDER</th>\n",
       "      <th>NEURO</th>\n",
       "      <th>EMOT</th>\n",
       "      <th>DANGER</th>\n",
       "      <th>ELOPE</th>\n",
       "      <th>LOS</th>\n",
       "      <th>BEHAV</th>\n",
       "      <th>CUSTD</th>\n",
       "      <th>VIOL</th>\n",
       "    </tr>\n",
       "  </thead>\n",
       "  <tbody>\n",
       "    <tr>\n",
       "      <th>471</th>\n",
       "      <td>3</td>\n",
       "      <td>2</td>\n",
       "      <td>15.35934</td>\n",
       "      <td>0</td>\n",
       "      <td>0</td>\n",
       "      <td>1</td>\n",
       "      <td>0</td>\n",
       "      <td>2</td>\n",
       "      <td>1</td>\n",
       "      <td>13</td>\n",
       "      <td>7</td>\n",
       "      <td>0</td>\n",
       "      <td>1</td>\n",
       "    </tr>\n",
       "    <tr>\n",
       "      <th>299</th>\n",
       "      <td>1</td>\n",
       "      <td>0</td>\n",
       "      <td>14.82546</td>\n",
       "      <td>1</td>\n",
       "      <td>0</td>\n",
       "      <td>3</td>\n",
       "      <td>0</td>\n",
       "      <td>3</td>\n",
       "      <td>0</td>\n",
       "      <td>10</td>\n",
       "      <td>3</td>\n",
       "      <td>0</td>\n",
       "      <td>1</td>\n",
       "    </tr>\n",
       "    <tr>\n",
       "      <th>63</th>\n",
       "      <td>1</td>\n",
       "      <td>0</td>\n",
       "      <td>15.85489</td>\n",
       "      <td>1</td>\n",
       "      <td>1</td>\n",
       "      <td>0</td>\n",
       "      <td>0</td>\n",
       "      <td>3</td>\n",
       "      <td>0</td>\n",
       "      <td>5</td>\n",
       "      <td>7</td>\n",
       "      <td>1</td>\n",
       "      <td>1</td>\n",
       "    </tr>\n",
       "    <tr>\n",
       "      <th>53</th>\n",
       "      <td>2</td>\n",
       "      <td>1</td>\n",
       "      <td>12.41615</td>\n",
       "      <td>1</td>\n",
       "      <td>1</td>\n",
       "      <td>3</td>\n",
       "      <td>0</td>\n",
       "      <td>3</td>\n",
       "      <td>1</td>\n",
       "      <td>9</td>\n",
       "      <td>9</td>\n",
       "      <td>1</td>\n",
       "      <td>1</td>\n",
       "    </tr>\n",
       "    <tr>\n",
       "      <th>127</th>\n",
       "      <td>2</td>\n",
       "      <td>1</td>\n",
       "      <td>15.19507</td>\n",
       "      <td>1</td>\n",
       "      <td>1</td>\n",
       "      <td>0</td>\n",
       "      <td>0</td>\n",
       "      <td>2</td>\n",
       "      <td>1</td>\n",
       "      <td>11</td>\n",
       "      <td>5</td>\n",
       "      <td>1</td>\n",
       "      <td>1</td>\n",
       "    </tr>\n",
       "  </tbody>\n",
       "</table>\n",
       "</div>"
      ],
      "text/plain": [
       "     PLACE  PLACE3       AGE  RACE  GENDER  NEURO  EMOT  DANGER  ELOPE  LOS  \\\n",
       "471      3       2  15.35934     0       0      1     0       2      1   13   \n",
       "299      1       0  14.82546     1       0      3     0       3      0   10   \n",
       "63       1       0  15.85489     1       1      0     0       3      0    5   \n",
       "53       2       1  12.41615     1       1      3     0       3      1    9   \n",
       "127      2       1  15.19507     1       1      0     0       2      1   11   \n",
       "\n",
       "     BEHAV  CUSTD  VIOL  \n",
       "471      7      0     1  \n",
       "299      3      0     1  \n",
       "63       7      1     1  \n",
       "53       9      1     1  \n",
       "127      5      1     1  "
      ]
     },
     "execution_count": 1,
     "metadata": {},
     "output_type": "execute_result"
    }
   ],
   "source": [
    "import numpy as np\n",
    "import pandas as pd\n",
    "df = pd.read_csv(\"data/aps.csv\")\n",
    "df = df.reindex(np.random.permutation(df.index))\n",
    "df = df.drop(\"ID\", axis =1)\n",
    "df.head()"
   ]
  },
  {
   "cell_type": "code",
   "execution_count": 2,
   "metadata": {
    "collapsed": false
   },
   "outputs": [],
   "source": [
    "class LogisticRegression():\n",
    "    \n",
    "    def __init__(self, data_train, target_train, iters, alpha=0.01):\n",
    "        \n",
    "        self.n = data_train.shape[1]\n",
    "        self.X_train = data_train\n",
    "        self.y_train = np.reshape(target_train, (target_train.shape[0], 1))\n",
    "        self.theta = np.reshape(np.random.uniform(-1, 1, self.n), (self.n, 1))\n",
    "        self.iters = iters\n",
    "        self.alpha = alpha\n",
    "    \n",
    "    def sigmoid(self):\n",
    "        \n",
    "        mid = np.dot(self.X_train, self.theta)\n",
    "        final = 1.0 / (1. + np.exp(-1. * mid))\n",
    "        \n",
    "        return final \n",
    "    \n",
    "    def gradient(self):\n",
    "        \n",
    "        mid = (self.sigmoid() - self.y_train)\n",
    "        pen = np.dot(mid.T, self.X_train)\n",
    "        \n",
    "        return ((self.alpha / self.n) * pen).T\n",
    "    \n",
    "    def update_weights(self):\n",
    "\n",
    "        # print self.theta\n",
    "        self.theta = np.subtract(self.theta, self.gradient())\n",
    "        \n",
    "    def train(self):\n",
    "        \n",
    "        for i in range(self.iters):\n",
    "            self.update_weights()\n",
    "            \n",
    "    def predict(self, X_test):\n",
    "        \n",
    "        mid = np.dot(X_test, self.theta)\n",
    "        score = 1.0 / (1. + np.exp(-1. * mid))\n",
    "        \n",
    "        binary = [1 if score[i] > 0.5 else 0 for i in range(len(score))]\n",
    "        # print binary[:10]\n",
    "        \n",
    "        return binary\n",
    "    \n",
    "    def evaluate(self, predictions, target_test):\n",
    "    \n",
    "        return np.mean(predictions == target_test)"
   ]
  },
  {
   "cell_type": "code",
   "execution_count": 4,
   "metadata": {
    "collapsed": false
   },
   "outputs": [
    {
     "name": "stdout",
     "output_type": "stream",
     "text": [
      "accuracy:  0.852941176471\n"
     ]
    }
   ],
   "source": [
    "\n",
    "def main():\n",
    "    \n",
    "    data = df.iloc[:,:-1]\n",
    "    target = df.iloc[:, -1]\n",
    "    cutoff = int(len(data) * .8)\n",
    "    X_train, X_test = data[:cutoff], data[cutoff:]\n",
    "    y_train, y_test = target[:cutoff], target[cutoff:]\n",
    "\n",
    "    lr = LogisticRegression(X_train, y_train, 10)\n",
    "    lr.train()\n",
    "\n",
    "    predictions = lr.predict(X_test)\n",
    "    \n",
    "    accuracy = lr.evaluate(predictions, y_test)\n",
    "    \n",
    "    print \"accuracy: \", accuracy\n",
    "    \n",
    "main()\n",
    "\n",
    "    "
   ]
  },
  {
   "cell_type": "code",
   "execution_count": null,
   "metadata": {
    "collapsed": true
   },
   "outputs": [],
   "source": []
  },
  {
   "cell_type": "code",
   "execution_count": null,
   "metadata": {
    "collapsed": true
   },
   "outputs": [],
   "source": []
  }
 ],
 "metadata": {
  "kernelspec": {
   "display_name": "Python 2",
   "language": "python",
   "name": "python2"
  },
  "language_info": {
   "codemirror_mode": {
    "name": "ipython",
    "version": 2
   },
   "file_extension": ".py",
   "mimetype": "text/x-python",
   "name": "python",
   "nbconvert_exporter": "python",
   "pygments_lexer": "ipython2",
   "version": "2.7.10"
  }
 },
 "nbformat": 4,
 "nbformat_minor": 0
}
