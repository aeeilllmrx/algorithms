{
 "cells": [
  {
   "cell_type": "markdown",
   "metadata": {},
   "source": [
    "## Logistic Regression"
   ]
  },
  {
   "cell_type": "markdown",
   "metadata": {},
   "source": [
    "Using classes this time"
   ]
  },
  {
   "cell_type": "code",
   "execution_count": 1,
   "metadata": {
    "collapsed": false
   },
   "outputs": [
    {
     "data": {
      "text/html": [
       "<div>\n",
       "<table border=\"1\" class=\"dataframe\">\n",
       "  <thead>\n",
       "    <tr style=\"text-align: right;\">\n",
       "      <th></th>\n",
       "      <th>PLACE</th>\n",
       "      <th>PLACE3</th>\n",
       "      <th>AGE</th>\n",
       "      <th>RACE</th>\n",
       "      <th>GENDER</th>\n",
       "      <th>NEURO</th>\n",
       "      <th>EMOT</th>\n",
       "      <th>DANGER</th>\n",
       "      <th>ELOPE</th>\n",
       "      <th>LOS</th>\n",
       "      <th>BEHAV</th>\n",
       "      <th>CUSTD</th>\n",
       "      <th>VIOL</th>\n",
       "    </tr>\n",
       "  </thead>\n",
       "  <tbody>\n",
       "    <tr>\n",
       "      <th>502</th>\n",
       "      <td>3</td>\n",
       "      <td>2</td>\n",
       "      <td>11.81930</td>\n",
       "      <td>0</td>\n",
       "      <td>0</td>\n",
       "      <td>0</td>\n",
       "      <td>0</td>\n",
       "      <td>2</td>\n",
       "      <td>1</td>\n",
       "      <td>6</td>\n",
       "      <td>8</td>\n",
       "      <td>1</td>\n",
       "      <td>1</td>\n",
       "    </tr>\n",
       "    <tr>\n",
       "      <th>90</th>\n",
       "      <td>3</td>\n",
       "      <td>2</td>\n",
       "      <td>15.48528</td>\n",
       "      <td>1</td>\n",
       "      <td>0</td>\n",
       "      <td>1</td>\n",
       "      <td>1</td>\n",
       "      <td>3</td>\n",
       "      <td>1</td>\n",
       "      <td>187</td>\n",
       "      <td>8</td>\n",
       "      <td>1</td>\n",
       "      <td>1</td>\n",
       "    </tr>\n",
       "    <tr>\n",
       "      <th>340</th>\n",
       "      <td>1</td>\n",
       "      <td>0</td>\n",
       "      <td>12.61054</td>\n",
       "      <td>1</td>\n",
       "      <td>0</td>\n",
       "      <td>3</td>\n",
       "      <td>0</td>\n",
       "      <td>1</td>\n",
       "      <td>1</td>\n",
       "      <td>5</td>\n",
       "      <td>6</td>\n",
       "      <td>0</td>\n",
       "      <td>1</td>\n",
       "    </tr>\n",
       "    <tr>\n",
       "      <th>476</th>\n",
       "      <td>3</td>\n",
       "      <td>2</td>\n",
       "      <td>16.71732</td>\n",
       "      <td>0</td>\n",
       "      <td>0</td>\n",
       "      <td>1</td>\n",
       "      <td>0</td>\n",
       "      <td>3</td>\n",
       "      <td>0</td>\n",
       "      <td>171</td>\n",
       "      <td>8</td>\n",
       "      <td>0</td>\n",
       "      <td>1</td>\n",
       "    </tr>\n",
       "    <tr>\n",
       "      <th>163</th>\n",
       "      <td>2</td>\n",
       "      <td>1</td>\n",
       "      <td>11.36208</td>\n",
       "      <td>0</td>\n",
       "      <td>0</td>\n",
       "      <td>0</td>\n",
       "      <td>0</td>\n",
       "      <td>2</td>\n",
       "      <td>0</td>\n",
       "      <td>6</td>\n",
       "      <td>7</td>\n",
       "      <td>1</td>\n",
       "      <td>1</td>\n",
       "    </tr>\n",
       "  </tbody>\n",
       "</table>\n",
       "</div>"
      ],
      "text/plain": [
       "     PLACE  PLACE3       AGE  RACE  GENDER  NEURO  EMOT  DANGER  ELOPE  LOS  \\\n",
       "502      3       2  11.81930     0       0      0     0       2      1    6   \n",
       "90       3       2  15.48528     1       0      1     1       3      1  187   \n",
       "340      1       0  12.61054     1       0      3     0       1      1    5   \n",
       "476      3       2  16.71732     0       0      1     0       3      0  171   \n",
       "163      2       1  11.36208     0       0      0     0       2      0    6   \n",
       "\n",
       "     BEHAV  CUSTD  VIOL  \n",
       "502      8      1     1  \n",
       "90       8      1     1  \n",
       "340      6      0     1  \n",
       "476      8      0     1  \n",
       "163      7      1     1  "
      ]
     },
     "execution_count": 1,
     "metadata": {},
     "output_type": "execute_result"
    }
   ],
   "source": [
    "import numpy as np\n",
    "import pandas as pd\n",
    "df = pd.read_csv(\"data/aps.csv\")\n",
    "df = df.reindex(np.random.permutation(df.index))\n",
    "df = df.drop(\"ID\", axis =1)\n",
    "df.head()"
   ]
  },
  {
   "cell_type": "code",
   "execution_count": 2,
   "metadata": {
    "collapsed": false
   },
   "outputs": [],
   "source": [
    "class LogisticRegression():\n",
    "    \n",
    "    def __init__(self, data_train, target_train, iters, alpha=0.1):\n",
    "        \n",
    "        self.n = data_train.shape[1]\n",
    "        self.X_train = data_train\n",
    "        self.y_train = np.reshape(target_train, (target_train.shape[0], 1))\n",
    "        self.theta = np.reshape(np.zeros(self.n), (self.n, 1))\n",
    "        self.iters = iters\n",
    "        self.alpha = alpha\n",
    "    \n",
    "    def sigmoid(self):\n",
    "        \n",
    "        mid = np.dot(self.X_train, self.theta)\n",
    "        \n",
    "        return 1.0 / (1. + np.exp(-mid))\n",
    "        \n",
    "    def gradient(self):\n",
    "        \n",
    "        mid = (self.sigmoid() - self.y_train)\n",
    "\n",
    "        return (self.alpha / self.n) * np.dot(self.X_train.T, mid)\n",
    "    \n",
    "    def update_weights(self):\n",
    "\n",
    "        self.theta = self.theta - self.gradient()\n",
    "        \n",
    "        # print self.theta\n",
    "        \n",
    "    def train(self):\n",
    "        \n",
    "        for i in range(self.iters):\n",
    "            self.update_weights()\n",
    "            \n",
    "    def predict(self, X_test):\n",
    "        \n",
    "        score = np.exp(-np.dot(X_test, self.theta))\n",
    "        binary = [1 if score[i] > 0.5 else 0 for i in range(len(score))]\n",
    "        \n",
    "        return binary\n",
    "    \n",
    "    def evaluate(self, predictions, target_test):\n",
    "    \n",
    "        return np.mean(predictions == target_test)"
   ]
  },
  {
   "cell_type": "code",
   "execution_count": 3,
   "metadata": {
    "collapsed": false
   },
   "outputs": [
    {
     "name": "stdout",
     "output_type": "stream",
     "text": [
      "accuracy:  0.254901960784\n"
     ]
    }
   ],
   "source": [
    "\n",
    "def main():\n",
    "    \n",
    "    data = df.iloc[:,:-1]\n",
    "    target = df.iloc[:, -1]\n",
    "    cutoff = int(len(data) * .8)\n",
    "    X_train, X_test = data[:cutoff], data[cutoff:]\n",
    "    y_train, y_test = target[:cutoff], target[cutoff:]\n",
    "\n",
    "    lr = LogisticRegression(X_train, y_train, 5)\n",
    "    lr.train()\n",
    "\n",
    "    predictions = lr.predict(X_test)\n",
    "    \n",
    "    accuracy = lr.evaluate(predictions, y_test)\n",
    "    \n",
    "    print \"accuracy: \", accuracy\n",
    "    \n",
    "main()\n",
    "\n",
    "    "
   ]
  },
  {
   "cell_type": "code",
   "execution_count": null,
   "metadata": {
    "collapsed": false
   },
   "outputs": [],
   "source": []
  },
  {
   "cell_type": "code",
   "execution_count": null,
   "metadata": {
    "collapsed": true
   },
   "outputs": [],
   "source": []
  }
 ],
 "metadata": {
  "kernelspec": {
   "display_name": "Python 2",
   "language": "python",
   "name": "python2"
  },
  "language_info": {
   "codemirror_mode": {
    "name": "ipython",
    "version": 2
   },
   "file_extension": ".py",
   "mimetype": "text/x-python",
   "name": "python",
   "nbconvert_exporter": "python",
   "pygments_lexer": "ipython2",
   "version": "2.7.10"
  }
 },
 "nbformat": 4,
 "nbformat_minor": 0
}
