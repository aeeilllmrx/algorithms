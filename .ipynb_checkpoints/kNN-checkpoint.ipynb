{
 "cells": [
  {
   "cell_type": "markdown",
   "metadata": {},
   "source": [
    "## K Nearest Neighbors"
   ]
  },
  {
   "cell_type": "code",
   "execution_count": 1,
   "metadata": {
    "collapsed": true
   },
   "outputs": [],
   "source": [
    "import numpy as np\n",
    "import pandas as pd\n",
    "\n",
    "df = pd.read_csv(\"../data/iris.data\")\n",
    "df = df.reindex(np.random.permutation(df.index))"
   ]
  },
  {
   "cell_type": "markdown",
   "metadata": {},
   "source": [
    "Algorithm is pretty straightforward- take the closest k neighbors and set your test label equal to the most common label."
   ]
  },
  {
   "cell_type": "code",
   "execution_count": 8,
   "metadata": {
    "collapsed": false
   },
   "outputs": [],
   "source": [
    "\n",
    "def distance(p1, p2):\n",
    "        \n",
    "    return np.sqrt(sum(p1 - p2)**2)\n",
    "\n",
    "\n",
    "def get_neighbors(p1, points, k):\n",
    "        \n",
    "    distances = [distance(p1, p[0]) for p in points]\n",
    "    zipped = zip(distances, points)\n",
    "    sorted_zipped = sorted(zipped, key = lambda x: x[0])\n",
    "\n",
    "    return sorted_zipped[:k]\n",
    "\n",
    "def most_popular_class(points):\n",
    "\n",
    "    classes = [p[1] for p in points]\n",
    "    return max(classes)\n",
    "\n",
    "def evaluate(predictions, test_labels):\n",
    "    \n",
    "    sames = [int(predictions[i] == test_labels[i]) for i in range(len(predictions))]\n",
    "    return np.mean(sames)"
   ]
  },
  {
   "cell_type": "code",
   "execution_count": 5,
   "metadata": {
    "collapsed": true
   },
   "outputs": [],
   "source": [
    "data = df.as_matrix(columns = [\"sepal_length\", \"sepal_length\", \"petal_length\", \"petal_width\"])\n",
    "labels = df.as_matrix(columns = [\"class\"])\n"
   ]
  },
  {
   "cell_type": "code",
   "execution_count": 6,
   "metadata": {
    "collapsed": false
   },
   "outputs": [],
   "source": [
    "train_points = zip(data[:100], labels[:100])\n",
    "test_data = data[100:]; test_labels = labels[100:]\n"
   ]
  },
  {
   "cell_type": "markdown",
   "metadata": {},
   "source": [
    "Let's try with different k and see how accurate our results are."
   ]
  },
  {
   "cell_type": "code",
   "execution_count": 9,
   "metadata": {
    "collapsed": false
   },
   "outputs": [
    {
     "name": "stdout",
     "output_type": "stream",
     "text": [
      "Using 1 neighbors led to 0.86 accuracy\n",
      "Using 2 neighbors led to 0.86 accuracy\n",
      "Using 3 neighbors led to 0.84 accuracy\n",
      "Using 4 neighbors led to 0.84 accuracy\n",
      "Using 5 neighbors led to 0.84 accuracy\n"
     ]
    }
   ],
   "source": [
    "k_options = [1,2,3,4,5]\n",
    "\n",
    "for k in k_options:\n",
    "    predictions = []\n",
    "    for td in test_data:\n",
    "        neighbors = get_neighbors(td, train_points, k)\n",
    "        targets = [n[1] for n in neighbors]\n",
    "        mpc = most_popular_class(targets)\n",
    "        predictions.append(mpc)\n",
    "    results = evaluate(predictions, test_labels)\n",
    "    print \"Using {0} neighbors led to {1:.2f} accuracy\".format(k, results)\n"
   ]
  },
  {
   "cell_type": "code",
   "execution_count": null,
   "metadata": {
    "collapsed": true
   },
   "outputs": [],
   "source": []
  }
 ],
 "metadata": {
  "kernelspec": {
   "display_name": "Python 2",
   "language": "python",
   "name": "python2"
  },
  "language_info": {
   "codemirror_mode": {
    "name": "ipython",
    "version": 2
   },
   "file_extension": ".py",
   "mimetype": "text/x-python",
   "name": "python",
   "nbconvert_exporter": "python",
   "pygments_lexer": "ipython2",
   "version": "2.7.10"
  }
 },
 "nbformat": 4,
 "nbformat_minor": 0
}
