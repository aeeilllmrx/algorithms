{
 "cells": [
  {
   "cell_type": "markdown",
   "metadata": {},
   "source": [
    "## K-means"
   ]
  },
  {
   "cell_type": "markdown",
   "metadata": {},
   "source": [
    "just a quick implementation of kmeans"
   ]
  },
  {
   "cell_type": "code",
   "execution_count": 1,
   "metadata": {
    "collapsed": false
   },
   "outputs": [],
   "source": [
    "import numpy as np\n",
    "import pandas as pd\n",
    "import random\n",
    "from scipy.stats.mstats import gmean\n",
    "\n",
    "df = pd.read_csv(\"iris.data\")\n",
    "df = df.reindex(np.random.permutation(df.index))"
   ]
  },
  {
   "cell_type": "code",
   "execution_count": 2,
   "metadata": {
    "collapsed": false
   },
   "outputs": [
    {
     "data": {
      "text/html": [
       "<div>\n",
       "<table border=\"1\" class=\"dataframe\">\n",
       "  <thead>\n",
       "    <tr style=\"text-align: right;\">\n",
       "      <th></th>\n",
       "      <th>sepal_length</th>\n",
       "      <th>sepal_width</th>\n",
       "      <th>petal_length</th>\n",
       "      <th>petal_width</th>\n",
       "      <th>class</th>\n",
       "    </tr>\n",
       "  </thead>\n",
       "  <tbody>\n",
       "    <tr>\n",
       "      <th>136</th>\n",
       "      <td>6.3</td>\n",
       "      <td>3.4</td>\n",
       "      <td>5.6</td>\n",
       "      <td>2.4</td>\n",
       "      <td>Iris-virginica</td>\n",
       "    </tr>\n",
       "    <tr>\n",
       "      <th>25</th>\n",
       "      <td>5.0</td>\n",
       "      <td>3.0</td>\n",
       "      <td>1.6</td>\n",
       "      <td>0.2</td>\n",
       "      <td>Iris-setosa</td>\n",
       "    </tr>\n",
       "    <tr>\n",
       "      <th>110</th>\n",
       "      <td>6.5</td>\n",
       "      <td>3.2</td>\n",
       "      <td>5.1</td>\n",
       "      <td>2.0</td>\n",
       "      <td>Iris-virginica</td>\n",
       "    </tr>\n",
       "    <tr>\n",
       "      <th>120</th>\n",
       "      <td>6.9</td>\n",
       "      <td>3.2</td>\n",
       "      <td>5.7</td>\n",
       "      <td>2.3</td>\n",
       "      <td>Iris-virginica</td>\n",
       "    </tr>\n",
       "    <tr>\n",
       "      <th>33</th>\n",
       "      <td>5.5</td>\n",
       "      <td>4.2</td>\n",
       "      <td>1.4</td>\n",
       "      <td>0.2</td>\n",
       "      <td>Iris-setosa</td>\n",
       "    </tr>\n",
       "  </tbody>\n",
       "</table>\n",
       "</div>"
      ],
      "text/plain": [
       "     sepal_length  sepal_width  petal_length  petal_width           class\n",
       "136           6.3          3.4           5.6          2.4  Iris-virginica\n",
       "25            5.0          3.0           1.6          0.2     Iris-setosa\n",
       "110           6.5          3.2           5.1          2.0  Iris-virginica\n",
       "120           6.9          3.2           5.7          2.3  Iris-virginica\n",
       "33            5.5          4.2           1.4          0.2     Iris-setosa"
      ]
     },
     "execution_count": 2,
     "metadata": {},
     "output_type": "execute_result"
    }
   ],
   "source": [
    "df.head()"
   ]
  },
  {
   "cell_type": "code",
   "execution_count": 3,
   "metadata": {
    "collapsed": false
   },
   "outputs": [],
   "source": [
    "\n",
    "def distance(p1, p2):\n",
    "        \n",
    "    return np.sqrt(sum(np.subtract(p1, p2))**2)\n",
    "\n",
    "def random_clusters(k, min_val=0, max_val=8, dim=4):\n",
    "    \n",
    "    clusters = []\n",
    "    for i in range(k):\n",
    "        c = random.sample(range(min_val, max_val), dim)\n",
    "        clusters.append(c)\n",
    "    return clusters\n",
    "\n",
    "def find_closest_cluster(p, clusters):\n",
    "        \n",
    "    distances = [distance(p, c) for c in clusters]\n",
    "    zipped = zip(distances, clusters)\n",
    "    sorted_zipped = sorted(zipped, key = lambda x: x[0])\n",
    "\n",
    "    return sorted_zipped[0][1]\n",
    "\n",
    "def relocate_cluster(cluster, points_and_clusters):\n",
    "\n",
    "    relevant_points = [p[0] for p in points_and_clusters if np.array_equal(p[1], cluster)]\n",
    "    if len(relevant_points) == 0:\n",
    "        return random_clusters(1)\n",
    "    else:\n",
    "        return gmean(relevant_points)\n",
    "    \n",
    "def evaluate(clusters, actual_means):\n",
    "    \n",
    "    c = sorted(clusters, key = lambda x: x[0])\n",
    "    a = sorted(actual_means, key = lambda x: x[0])\n",
    "    \n",
    "    dists = [distance(c[i], a[i]) for i in range(len(c))]\n",
    "    norm = np.linalg.norm(dists)\n",
    "    return norm\n",
    "    "
   ]
  },
  {
   "cell_type": "markdown",
   "metadata": {},
   "source": [
    "We can see the clusters converge very quickly to the features of each flower."
   ]
  },
  {
   "cell_type": "code",
   "execution_count": 4,
   "metadata": {
    "collapsed": false
   },
   "outputs": [],
   "source": [
    "\n",
    "def main():\n",
    "    \n",
    "    data = df.as_matrix(columns = [\"sepal_length\", \"sepal_width\", \"petal_length\", \"petal_width\"])\n",
    "    target = df.as_matrix(columns = [\"class\"])\n",
    "    \n",
    "    virginica_means = list(df.loc[df[\"class\"] == \"Iris-virginica\"].mean())\n",
    "    versicolor_means = list(df.loc[df[\"class\"] == \"Iris-versicolor\"].mean())\n",
    "    setosa_means = list(df.loc[df[\"class\"] == \"Iris-setosa\"].mean())\n",
    "    \n",
    "    actual_means = [virginica_means, versicolor_means, setosa_means]\n",
    "    \n",
    "    k = 3\n",
    "    clusters = random_clusters(k)\n",
    "    for i in range(5):\n",
    "        nearest_clusters = [find_closest_cluster(d, clusters) for d in data]\n",
    "        points_with_clusters = zip(data, nearest_clusters)\n",
    "        clusters = [relocate_cluster(c, points_with_clusters) for c in clusters]\n",
    "        n = evaluate(clusters, actual_means)  \n",
    "        print n\n",
    "    \n",
    "    return clusters"
   ]
  },
  {
   "cell_type": "code",
   "execution_count": 5,
   "metadata": {
    "collapsed": false
   },
   "outputs": [
    {
     "name": "stdout",
     "output_type": "stream",
     "text": [
      "0.883452705985\n",
      "0.619082733425\n",
      "0.531738425113\n",
      "0.489200931582\n",
      "0.489200931582\n"
     ]
    }
   ],
   "source": [
    "final_clusters = main()"
   ]
  },
  {
   "cell_type": "code",
   "execution_count": 6,
   "metadata": {
    "collapsed": false
   },
   "outputs": [
    {
     "name": "stderr",
     "output_type": "stream",
     "text": [
      "/usr/local/lib/python2.7/site-packages/matplotlib/figure.py:387: UserWarning: matplotlib is currently using a non-GUI backend, so cannot show the figure\n",
      "  \"matplotlib is currently using a non-GUI backend, \"\n"
     ]
    },
    {
     "data": {
      "image/png": "[encoded data removed]",
      "text/plain": [
       "<matplotlib.figure.Figure at 0x108c3bcd0>"
      ]
     },
     "metadata": {},
     "output_type": "display_data"
    }
   ],
   "source": [
    "%matplotlib inline\n",
    "import matplotlib.pyplot as plt\n",
    "\n",
    "virginica = df.loc[df[\"class\"] == \"Iris-virginica\"]\n",
    "versicolor = df.loc[df[\"class\"] == \"Iris-versicolor\"]\n",
    "setosa = df.loc[df[\"class\"] == \"Iris-setosa\"]\n",
    "\n",
    "fig = plt.figure()\n",
    "ax = fig.add_subplot(121)\n",
    "x_points = df[\"sepal_length\"]\n",
    "y_points = df[\"sepal_width\"]\n",
    "p = ax.plot(x_points, y_points, 'ro')\n",
    "ax.set_xlabel('sepal length')\n",
    "ax.set_ylabel('sepal width')\n",
    "ax.set_title('sepal feature clusters')\n",
    "fx = [f[0] for f in final_clusters]\n",
    "fy = [f[1] for f in final_clusters]\n",
    "q = ax.plot(fx, fy, 'ro', marker = '<', color = 'blue')\n",
    "\n",
    "ax = fig.add_subplot(122)\n",
    "x_points = df[\"petal_length\"]\n",
    "y_points = df[\"petal_width\"]\n",
    "p = ax.plot(x_points, y_points, 'ro')\n",
    "ax.set_xlabel('petal length')\n",
    "ax.set_ylabel('petal width')\n",
    "ax.set_title('petal feature clusters')\n",
    "fx = [f[2] for f in final_clusters]\n",
    "fy = [f[3] for f in final_clusters]\n",
    "q = ax.plot(fx, fy, 'ro', marker = '<', color = 'blue')\n",
    "\n",
    "fig.show()\n",
    "\n",
    "fig.subplots_adjust(right=1.5)\n",
    "\n"
   ]
  },
  {
   "cell_type": "code",
   "execution_count": null,
   "metadata": {
    "collapsed": true
   },
   "outputs": [],
   "source": []
  },
  {
   "cell_type": "code",
   "execution_count": null,
   "metadata": {
    "collapsed": true
   },
   "outputs": [],
   "source": []
  },
  {
   "cell_type": "code",
   "execution_count": null,
   "metadata": {
    "collapsed": true
   },
   "outputs": [],
   "source": []
  },
  {
   "cell_type": "code",
   "execution_count": null,
   "metadata": {
    "collapsed": true
   },
   "outputs": [],
   "source": []
  }
 ],
 "metadata": {
  "kernelspec": {
   "display_name": "Python 2",
   "language": "python",
   "name": "python2"
  },
  "language_info": {
   "codemirror_mode": {
    "name": "ipython",
    "version": 2
   },
   "file_extension": ".py",
   "mimetype": "text/x-python",
   "name": "python",
   "nbconvert_exporter": "python",
   "pygments_lexer": "ipython2",
   "version": "2.7.10"
  }
 },
 "nbformat": 4,
 "nbformat_minor": 0
}
