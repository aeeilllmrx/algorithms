{
 "cells": [
  {
   "cell_type": "markdown",
   "metadata": {},
   "source": [
    "## Naive Bayes"
   ]
  },
  {
   "cell_type": "markdown",
   "metadata": {},
   "source": [
    "formatting"
   ]
  },
  {
   "cell_type": "code",
   "execution_count": 1,
   "metadata": {
    "collapsed": true
   },
   "outputs": [],
   "source": [
    "import re\n",
    "import string\n",
    "\n",
    "def remove_punctuation(s):\n",
    "    \"\"\"See: http://stackoverflow.com/a/266162\n",
    "    \"\"\"\n",
    "    exclude = set(string.punctuation)\n",
    "    return ''.join(ch for ch in s if ch not in exclude)\n",
    "\n",
    "def tokenize(text):\n",
    "    text = remove_punctuation(text)\n",
    "    text = text.lower()\n",
    "    return re.split(\"\\W+\", text)\n",
    "\n",
    "def count_words(words):\n",
    "    wc = {}\n",
    "    for word in words:\n",
    "        wc[word] = wc.get(word, 0.0) + 1.0\n",
    "    return wc"
   ]
  },
  {
   "cell_type": "code",
   "execution_count": 2,
   "metadata": {
    "collapsed": false
   },
   "outputs": [
    {
     "data": {
      "text/plain": [
       "{'favorite': 1.0,\n",
       " 'food': 1.0,\n",
       " 'greg': 1.0,\n",
       " 'hello': 1.0,\n",
       " 'is': 2.0,\n",
       " 'my': 2.0,\n",
       " 'name': 1.0,\n",
       " 'pizza': 1.0}"
      ]
     },
     "execution_count": 2,
     "metadata": {},
     "output_type": "execute_result"
    }
   ],
   "source": [
    "# test\n",
    "\n",
    "s = \"Hello my name, is Greg. My favorite food is pizza.\"\n",
    "count_words(tokenize(s))"
   ]
  },
  {
   "cell_type": "markdown",
   "metadata": {},
   "source": [
    "get corpus in place"
   ]
  },
  {
   "cell_type": "code",
   "execution_count": 19,
   "metadata": {
    "collapsed": false
   },
   "outputs": [],
   "source": [
    "from sh import find\n",
    "\n",
    "vocab = {}\n",
    "word_counts = {\n",
    "    \"billy_joel\": {},\n",
    "    \"joni_mitchell\": {}\n",
    "}\n",
    "priors = {\n",
    "    \"billy_joel\": 0.,\n",
    "    \"joni_mitchell\": 0.\n",
    "}\n",
    "\n",
    "docs = []\n",
    "for f in find(\"nb_data\"):\n",
    "    \n",
    "    f = f.strip()\n",
    "    if not f.endswith(\".txt\"):\n",
    "        # skip non .txt files\n",
    "        continue\n",
    "    elif \"bj\" in f:\n",
    "        category = \"billy_joel\"\n",
    "        #print \"bj\"\n",
    "    else:\n",
    "        category = \"joni_mitchell\"\n",
    "        #print \"jm\"\n",
    "    docs.append((category, f))\n",
    "    # ok time to start counting stuff...\n",
    "    priors[category] += 1\n",
    "    text = open(f).read()\n",
    "    words = tokenize(text)\n",
    "    counts = count_words(words)\n",
    "    for word, count in list(counts.items()):\n",
    "        # if we haven't seen a word yet, let's add it to our dictionaries with a count of 0\n",
    "        if word not in vocab:\n",
    "            vocab[word] = 0.0  # use 0.0 here so Python does \"correct\" math\n",
    "        if word not in word_counts[category]:\n",
    "            word_counts[category][word] = 0.0\n",
    "        vocab[word] += count\n",
    "        word_counts[category][word] += count\n"
   ]
  },
  {
   "cell_type": "markdown",
   "metadata": {},
   "source": [
    "test on new file"
   ]
  },
  {
   "cell_type": "code",
   "execution_count": 20,
   "metadata": {
    "collapsed": false
   },
   "outputs": [
    {
     "name": "stdout",
     "output_type": "stream",
     "text": [
      "Billy Joel score:  95887.6921166\n",
      "Joni Mitchell score:  1.85798794576e+11\n"
     ]
    }
   ],
   "source": [
    "import math\n",
    "\n",
    "new_doc = open(\"test_bj_file.txt\").read()\n",
    "words = tokenize(new_doc)\n",
    "counts = count_words(words)\n",
    "\n",
    "# Bayes theorem: P(A|B) = P(B|A) * (P(A)/P(B)), this is P(A)\n",
    "prior_bj = (priors[\"billy_joel\"] / sum(priors.values()))\n",
    "prior_jm = (priors[\"joni_mitchell\"] / sum(priors.values()))\n",
    "\n",
    "prob_bj = 1.0\n",
    "prob_jm = 1.0\n",
    "\n",
    "for w, cnt in list(counts.items()):\n",
    "    # skip words that we haven't seen before, or words less than 3 letters long\n",
    "    if w not in vocab or len(w) <= 3:\n",
    "        continue\n",
    "\n",
    "    p_word = vocab[w] / sum(vocab.values())\n",
    "    p_w_given_bj = word_counts[\"billy_joel\"].get(w, 0.0) / sum(word_counts[\"billy_joel\"].values())\n",
    "    p_w_given_jm = word_counts[\"joni_mitchell\"].get(w, 0.0) / sum(word_counts[\"joni_mitchell\"].values())\n",
    "\n",
    "    if p_w_given_bj > 0:\n",
    "        prob_bj = prob_bj * (cnt * p_w_given_bj / p_word)\n",
    "    if p_w_given_jm > 0:\n",
    "        prob_jm = prob_jm * (cnt * p_w_given_jm / p_word)\n",
    "\n",
    "print \"Billy Joel score: \", prob_bj * prior_bj\n",
    "print \"Joni Mitchell score: \", prob_jm * prior_jm"
   ]
  },
  {
   "cell_type": "code",
   "execution_count": null,
   "metadata": {
    "collapsed": false
   },
   "outputs": [],
   "source": []
  }
 ],
 "metadata": {
  "kernelspec": {
   "display_name": "Python 2",
   "language": "python",
   "name": "python2"
  },
  "language_info": {
   "codemirror_mode": {
    "name": "ipython",
    "version": 2
   },
   "file_extension": ".py",
   "mimetype": "text/x-python",
   "name": "python",
   "nbconvert_exporter": "python",
   "pygments_lexer": "ipython2",
   "version": "2.7.10"
  }
 },
 "nbformat": 4,
 "nbformat_minor": 0
}
