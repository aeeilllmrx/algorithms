{
 "cells": [
  {
   "cell_type": "markdown",
   "metadata": {},
   "source": [
    "## Decision Tree"
   ]
  },
  {
   "cell_type": "code",
   "execution_count": 1,
   "metadata": {
    "collapsed": false
   },
   "outputs": [
    {
     "name": "stdout",
     "output_type": "stream",
     "text": [
      "  weather  wind  ride\n",
      "0     hot   low     1\n",
      "1     hot  high     0\n",
      "2     hot   low     0\n",
      "3    cold   low     1\n",
      "4    cold   low     0\n",
      "5    cold  high     0\n"
     ]
    }
   ],
   "source": [
    "import pandas as pd\n",
    "\n",
    "c1 = ['low','high','low','low','low','high']\n",
    "c2 = ['hot','hot','hot','cold','cold','cold']\n",
    "c3 = [1,0,0,1,0,0]\n",
    "df = pd.DataFrame({'wind':c1,'weather':c2,'ride':c3})\n",
    "df = df[['weather', 'wind', 'ride']]\n",
    "\n",
    "print df"
   ]
  },
  {
   "cell_type": "code",
   "execution_count": 2,
   "metadata": {
    "collapsed": true
   },
   "outputs": [],
   "source": [
    "# entropy function\n",
    "\n",
    "import math\n",
    "\n",
    "def entropy(data):\n",
    "    \n",
    "    # need to first find probabilities of different classes\n",
    "    classes = {}\n",
    "    targets = [i[-1] for i in data]\n",
    "    \n",
    "    for i in targets:\n",
    "        if i not in classes:\n",
    "            classes[i] = 1\n",
    "        else:\n",
    "            classes[i] += 1   \n",
    "    \n",
    "    # then use entropy definition\n",
    "    probs = [float(i)/len(data) for i in classes.values()]\n",
    "    entropy = -sum([probs[i]*math.log(probs[i],2) for i in range(len(probs))])\n",
    "\n",
    "    return entropy"
   ]
  },
  {
   "cell_type": "code",
   "execution_count": 3,
   "metadata": {
    "collapsed": true
   },
   "outputs": [],
   "source": [
    "# choose what to split on\n",
    "\n",
    "def what_to_split_on(data):\n",
    "    \n",
    "    num_features = len(data[0]) - 1\n",
    "    baseEntropy = entropy(data)\n",
    "    bestInfoGain = 0.0\n",
    "    bestFeature = -1\n",
    "    \n",
    "    for i in range(num_features):\n",
    "        \n",
    "        row_vals = [x[i] for x in data]\n",
    "        unique_vals = set(row_vals)\n",
    "        newEntropy = 0.0\n",
    "        for val in unique_vals:\n",
    "            subset = split(data, i, val)\n",
    "            \n",
    "            prob = len(subset) / float(len(data))\n",
    "            \n",
    "            newEntropy += prob*entropy(subset)\n",
    "            \n",
    "        infoGain = baseEntropy - newEntropy\n",
    "        if infoGain > bestInfoGain:\n",
    "            bestInfoGain = infoGain\n",
    "            bestFeature = i\n",
    "    return bestFeature"
   ]
  },
  {
   "cell_type": "code",
   "execution_count": 4,
   "metadata": {
    "collapsed": true
   },
   "outputs": [],
   "source": [
    "# how to actually split the tree\n",
    "\n",
    "def split(data, col_num, value):\n",
    "    split_set = []\n",
    "    for record in data:\n",
    "        if record[col_num] == value:\n",
    "            \n",
    "            # get everything except that column\n",
    "            reduced = record[:col_num]\n",
    "            reduced.extend(record[col_num+1:])\n",
    "            \n",
    "            split_set.append(reduced)\n",
    "    return split_set"
   ]
  },
  {
   "cell_type": "code",
   "execution_count": 9,
   "metadata": {
    "collapsed": false
   },
   "outputs": [
    {
     "data": {
      "text/plain": [
       "[1, 0, 0, 1, 0, 0]"
      ]
     },
     "execution_count": 9,
     "metadata": {},
     "output_type": "execute_result"
    }
   ],
   "source": [
    "[x[-1] for x in df.values]"
   ]
  },
  {
   "cell_type": "code",
   "execution_count": 373,
   "metadata": {
    "collapsed": true
   },
   "outputs": [],
   "source": [
    "# it doesn't have to be recursive!\n",
    "\n",
    "def buildTree(data, labels, rounds):\n",
    "    \n",
    "    # go until stopping criterion is reached\n",
    "    while rounds > 0:\n",
    "        \n",
    "        rounds -= 1\n",
    "        targets = [x[-1] for x in df.values]\n",
    "\n",
    "        # base cases: if all targets have the same value, we are done\n",
    "        if targets.count(targets[0]) == len(targets):\n",
    "            print \"all items in split group have same value\"\n",
    "            return targets[0]\n",
    "\n",
    "        # now to main event, choose best feature\n",
    "        bestFeature = what_to_split_on(data)\n",
    "        bestFeatureLabel = labels[bestFeature]\n",
    "        print \"chose feature \", bestFeature\n",
    "\n",
    "        # start to create tree with best feature at root\n",
    "        tree = {bestFeatureLabel:{}}\n",
    "        print \"tree: \", tree\n",
    "\n",
    "        del(labels[bestFeature])\n",
    "\n",
    "        featValues = [x[bestFeature] for x in data]\n",
    "        uniqueVals = set(featValues)\n",
    "        for value in uniqueVals:\n",
    "            tree[bestFeatureLabel][value] = buildTree(split(data, bestFeature, value),labels)\n",
    "        return tree"
   ]
  },
  {
   "cell_type": "code",
   "execution_count": 369,
   "metadata": {
    "collapsed": false
   },
   "outputs": [],
   "source": [
    "\n",
    "\n",
    "def buildTree(data, labels):\n",
    "    \n",
    "    targets = [x[-1] for x in data]\n",
    "    \n",
    "    # base cases\n",
    "    \n",
    "    # if all targets have the same value, or if we are in a class of 1, we are done\n",
    "    if targets.count(targets[0]) == len(targets):\n",
    "        print \"all items in split group have same value\"\n",
    "        return targets[0]\n",
    "    if len(targets) == 1:\n",
    "        print \"one item in split group\"\n",
    "        return targets[0]\n",
    "       \n",
    "    # now to main event, choose best feature\n",
    "    bestFeature = what_to_split_on(data)\n",
    "    bestFeatureLabel = labels[bestFeature]\n",
    "    \n",
    "    print \"chose feature \", bestFeature\n",
    "    \n",
    "    # start to create tree with best feature at root\n",
    "    tree = {bestFeatureLabel:{}}\n",
    "    \n",
    "    print \"tree: \", tree\n",
    "    \n",
    "    del(labels[bestFeature])\n",
    "    \n",
    "    featValues = [x[bestFeature] for x in data]\n",
    "    uniqueVals = set(featValues)\n",
    "    for value in uniqueVals:\n",
    "        tree[bestFeatureLabel][value] = buildTree(split(data, bestFeature, value),labels)\n",
    "    return tree"
   ]
  },
  {
   "cell_type": "code",
   "execution_count": 385,
   "metadata": {
    "collapsed": false
   },
   "outputs": [
    {
     "name": "stdout",
     "output_type": "stream",
     "text": [
      "chose feature  1\n",
      "tree:  {'wind': {}}\n",
      "all items in split group have same value\n",
      "chose feature  -1\n",
      "tree:  {'weather': {}}\n",
      "all items in split group have same value\n",
      "all items in split group have same value\n"
     ]
    },
    {
     "data": {
      "text/plain": [
       "{'wind': {'high': 0, 'low': {'weather': {0: 0, 1: 1}}}}"
      ]
     },
     "execution_count": 385,
     "metadata": {},
     "output_type": "execute_result"
    }
   ],
   "source": [
    "labels = ['weather','wind']\n",
    "data = [list(df.values[i]) for i in range(len(df))]\n",
    "\n",
    "buildTree(data, labels)"
   ]
  },
  {
   "cell_type": "code",
   "execution_count": null,
   "metadata": {
    "collapsed": true
   },
   "outputs": [],
   "source": [
    "# not working:\n",
    "\n",
    "def most(classlist):\n",
    "    classcount={}\n",
    "    for vote in classlist:\n",
    "        if vote not in classcount.keys():\n",
    "            classcount[vote]=0\n",
    "        classcount[vote] += 1\n",
    "    sortedClassCount=sorted(classcount.iteritems(),key=operator.itemgetter(1),reverse=True)\n",
    "    return sortedClassCount[0][0]"
   ]
  }
 ],
 "metadata": {
  "kernelspec": {
   "display_name": "Python 2",
   "language": "python",
   "name": "python2"
  },
  "language_info": {
   "codemirror_mode": {
    "name": "ipython",
    "version": 2
   },
   "file_extension": ".py",
   "mimetype": "text/x-python",
   "name": "python",
   "nbconvert_exporter": "python",
   "pygments_lexer": "ipython2",
   "version": "2.7.10"
  }
 },
 "nbformat": 4,
 "nbformat_minor": 0
}
